{
  "nbformat": 4,
  "nbformat_minor": 0,
  "metadata": {
    "colab": {
      "provenance": [],
      "include_colab_link": true
    },
    "kernelspec": {
      "name": "python3",
      "display_name": "Python 3"
    },
    "language_info": {
      "name": "python"
    }
  },
  "cells": [
    {
      "cell_type": "markdown",
      "metadata": {
        "id": "view-in-github",
        "colab_type": "text"
      },
      "source": [
        "<a href=\"https://colab.research.google.com/github/Meghana09G/final-exam-2/blob/main/700761933_final_exam.ipynb\" target=\"_parent\"><img src=\"https://colab.research.google.com/assets/colab-badge.svg\" alt=\"Open In Colab\"/></a>"
      ]
    },
    {
      "cell_type": "code",
      "source": [
        "import pandas as pd\n",
        "import re\n",
        "import pickle\n",
        "from sklearn.model_selection import train_test_split\n",
        "from sklearn.preprocessing import LabelEncoder\n",
        "from tensorflow.keras.preprocessing.text import Tokenizer\n",
        "from tensorflow.keras.preprocessing.sequence import pad_sequences\n",
        "from tensorflow.keras.models import Sequential\n",
        "from tensorflow.keras.layers import Dense, Embedding, LSTM\n",
        "from tensorflow.keras.utils import to_categorical\n",
        "\n",
        "# Load and clean data\n",
        "data = pd.read_csv('/root/Data.csv')\n",
        "\n",
        "data = data[['text', 'sentiment']]\n",
        "data['text'] = data['text'].apply(lambda x: x.lower())\n",
        "data['text'] = data['text'].apply(lambda x: re.sub('[^a-zA-Z0-9\\s]', '', x))\n",
        "data['text'] = data['text'].apply(lambda x: x.replace(\"rt\", \" \"))\n",
        "\n",
        "# Tokenization\n",
        "max_features = 2000\n",
        "tokenizer = Tokenizer(num_words=max_features, split=' ')\n",
        "tokenizer.fit_on_texts(data['text'].values)\n",
        "X = tokenizer.texts_to_sequences(data['text'].values)\n",
        "X = pad_sequences(X)\n",
        "\n",
        "# Encode labels\n",
        "from sklearn.preprocessing import LabelEncoder\n",
        "from tensorflow.keras.utils import to_categorical\n",
        "\n",
        "# Encode sentiment labels\n",
        "labelencoder = LabelEncoder()  # <- this line must be executed first\n",
        "integer_encoded = labelencoder.fit_transform(data['sentiment'])  # e.g., ['positive', 'negative', 'neutral'] → [2, 0, 1]\n",
        "y = to_categorical(integer_encoded)  # Convert to one-hot\n",
        "\n",
        "\n",
        "# Split data\n",
        "X_train, X_test, Y_train, Y_test = train_test_split(X, y, test_size=0.33, random_state=42)\n",
        "\n",
        "# Build model\n",
        "embed_dim = 128\n",
        "lstm_out = 196\n",
        "model = Sequential()\n",
        "model.add(Embedding(max_features, embed_dim, input_length=X.shape[1]))\n",
        "model.add(LSTM(lstm_out, dropout=0.2, recurrent_dropout=0.2))\n",
        "model.add(Dense(3, activation='softmax'))  # Assuming 3 sentiment classes\n",
        "model.compile(loss='categorical_crossentropy', optimizer='adam', metrics=['accuracy'])\n",
        "\n",
        "# Train\n",
        "batch_size = 32\n",
        "model.fit(X_train, Y_train, epochs=1, batch_size=batch_size, verbose=2)\n",
        "\n",
        "# Evaluate\n",
        "score, acc = model.evaluate(X_test, Y_test, verbose=2, batch_size=batch_size)\n",
        "print(\"Test Loss:\", score)\n",
        "print(\"Test Accuracy:\", acc)\n",
        "\n",
        "# Save model, tokenizer, and label encoder\n",
        "model.save(\"sentiment_lstm_model.h5\")\n",
        "\n",
        "with open('tokenizer.pkl', 'wb') as f:\n",
        "    pickle.dump(tokenizer, f)\n",
        "\n",
        "with open('labelencoder.pkl', 'wb') as f:\n",
        "    pickle.dump(labelencoder, f)\n",
        "\n",
        "print(\"Model, tokenizer, and label encoder saved successfully.\")\n"
      ],
      "metadata": {
        "colab": {
          "base_uri": "https://localhost:8080/"
        },
        "id": "uvEkyUX8RDLp",
        "outputId": "336851b4-da15-44f5-d31e-772b6b03510a"
      },
      "execution_count": null,
      "outputs": [
        {
          "output_type": "stream",
          "name": "stderr",
          "text": [
            "/usr/local/lib/python3.11/dist-packages/keras/src/layers/core/embedding.py:90: UserWarning: Argument `input_length` is deprecated. Just remove it.\n",
            "  warnings.warn(\n"
          ]
        },
        {
          "output_type": "stream",
          "name": "stdout",
          "text": [
            "291/291 - 42s - 143ms/step - accuracy: 0.6426 - loss: 0.8292\n",
            "144/144 - 3s - 21ms/step - accuracy: 0.6638 - loss: 0.7758\n"
          ]
        },
        {
          "output_type": "stream",
          "name": "stderr",
          "text": [
            "WARNING:absl:You are saving your model as an HDF5 file via `model.save()` or `keras.saving.save_model(model)`. This file format is considered legacy. We recommend using instead the native Keras format, e.g. `model.save('my_model.keras')` or `keras.saving.save_model(model, 'my_model.keras')`. \n"
          ]
        },
        {
          "output_type": "stream",
          "name": "stdout",
          "text": [
            "Test Loss: 0.7758232355117798\n",
            "Test Accuracy: 0.6638270020484924\n",
            "Model, tokenizer, and label encoder saved successfully.\n"
          ]
        }
      ]
    }
  ]
}